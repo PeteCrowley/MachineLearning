{
  "nbformat": 4,
  "nbformat_minor": 0,
  "metadata": {
    "colab": {
      "name": "FakeNewsDetection.ipynb",
      "provenance": [],
      "collapsed_sections": [],
      "authorship_tag": "ABX9TyOUooGCaOcbD1Wo8pB6glj6",
      "include_colab_link": true
    },
    "kernelspec": {
      "name": "python3",
      "display_name": "Python 3"
    },
    "language_info": {
      "name": "python"
    }
  },
  "cells": [
    {
      "cell_type": "markdown",
      "metadata": {
        "id": "view-in-github",
        "colab_type": "text"
      },
      "source": [
        "<a href=\"https://colab.research.google.com/github/PeteCrowley/MachineLearning/blob/main/FakeNewsDetection.ipynb\" target=\"_parent\"><img src=\"https://colab.research.google.com/assets/colab-badge.svg\" alt=\"Open In Colab\"/></a>"
      ]
    },
    {
      "cell_type": "code",
      "metadata": {
        "id": "2rKryzM1LJ1w",
        "colab": {
          "base_uri": "https://localhost:8080/"
        },
        "outputId": "e90b7ca3-d6b6-42d4-f4ec-00d50442cef3"
      },
      "source": [
        "import pandas\n",
        "import numpy as np\n",
        "from tensorflow.keras.models import Sequential\n",
        "from keras.layers import Dense, Dropout, Flatten\n",
        "from sklearn.feature_extraction.text import TfidfVectorizer\n",
        "from sklearn.linear_model import PassiveAggressiveClassifier\n",
        "from sklearn.model_selection import train_test_split\n",
        "from sklearn.metrics import accuracy_score, confusion_matrix\n",
        "import tensorflow as tf\n",
        "\n",
        "\n",
        "# Dataset from here: https://www.kaggle.com/c/fake-news/data?select=train.csv\n",
        "df = pandas.read_csv(\"train.csv\")\n",
        "clean_df = df.dropna()\n",
        "\n",
        "# Only using first 3000 values because my RAM can't handle more data\n",
        "X = np.array(clean_df[df['id'] < 3000].text)\n",
        "Y = np.array(clean_df[df['id'] < 3000].label)\n",
        "\n",
        "# Splitting into train and test data\n",
        "train_X, test_X, train_Y, test_Y = train_test_split(X, Y, test_size=0.2, random_state=7)\n"
      ],
      "execution_count": 13,
      "outputs": [
        {
          "output_type": "stream",
          "name": "stderr",
          "text": [
            "/usr/local/lib/python3.7/dist-packages/ipykernel_launcher.py:17: UserWarning: Boolean Series key will be reindexed to match DataFrame index.\n",
            "/usr/local/lib/python3.7/dist-packages/ipykernel_launcher.py:18: UserWarning: Boolean Series key will be reindexed to match DataFrame index.\n"
          ]
        }
      ]
    },
    {
      "cell_type": "code",
      "metadata": {
        "id": "CQ5RpSueLYE1"
      },
      "source": [
        "# Changing the string text data into TfidfVectors which take numerical data on the text\n",
        "vectorizer = TfidfVectorizer(stop_words='english', max_df=0.7)\n",
        "\n",
        "tfidf_train = vectorizer.fit_transform(train_X)\n",
        "tfidf_test = vectorizer.transform(test_X)\n",
        "\n"
      ],
      "execution_count": 15,
      "outputs": []
    },
    {
      "cell_type": "code",
      "metadata": {
        "colab": {
          "base_uri": "https://localhost:8080/"
        },
        "id": "l7abwNj0SET_",
        "outputId": "b958f843-dac5-4795-ca4d-f76067f6c4b1"
      },
      "source": [
        "# A more lightweight model that runs quicker and is less RAM intensive\n",
        "model = PassiveAggressiveClassifier(max_iter=50)\n",
        "model.fit(tfidf_train, train_Y)\n",
        "\n",
        "y_pred = model.predict(tfidf_test)\n",
        "score = accuracy_score(test_Y, y_pred)\n",
        "print(f'Accuracy: {round(score*100,2)}%')\n",
        "\n"
      ],
      "execution_count": 16,
      "outputs": [
        {
          "output_type": "stream",
          "name": "stdout",
          "text": [
            "Accuracy: 91.6%\n"
          ]
        }
      ]
    },
    {
      "cell_type": "code",
      "metadata": {
        "colab": {
          "base_uri": "https://localhost:8080/"
        },
        "id": "dmklOF5YY53i",
        "outputId": "365a395b-18a6-4f20-83ec-7fdc2255dd4c"
      },
      "source": [
        "# Prediction program using the lightweight model\n",
        "text = [input(\"Enter Article: \")]\n",
        "tfidf_text = vectorizer.transform(text)\n",
        "choice = model.predict(tfidf_text)\n",
        "if choice == 0:\n",
        "  print(\"REAL\")\n",
        "else:\n",
        "  print(\"FAKE\")"
      ],
      "execution_count": 17,
      "outputs": [
        {
          "output_type": "stream",
          "name": "stdout",
          "text": [
            "Enter Article: Dr. Anthony Fauci and Hillary Clinton appeared to reunite like two long-lost lovers during Colin Powell’s funeral on Friday.  A photo taken at the event shows the National Institute of Allergy and Infectious Diseases director and former secretary of state beaming at each other and sharing a tender embrace before the funeral service.   Embed from Getty Images One wonders what they could be talking about: perhaps Fauci’s attempts to cover up his funding of gain of function research in China, or possibly how Clinton managed to get away with destabilizing Donald Trump’s presidency with a fake Russia collusion narrative.  Embed from Getty Images In any case, they certainly appear delighted to share in each other’s company for the solemn occasion.  Powell, the former secretary of state who lied about weapons of mass destruction to fool America into invading Iraq, died Oct. 18. of COVID complications despite receiving the shot.\n",
            "FAKE\n"
          ]
        }
      ]
    },
    {
      "cell_type": "code",
      "metadata": {
        "id": "lSQV1vQ_aO_d",
        "colab": {
          "base_uri": "https://localhost:8080/"
        },
        "outputId": "f48ecb16-0177-4e91-d476-d30b23d0200b"
      },
      "source": [
        "# Converts the vectors into dense objects which can be inputed into the Neural Network\n",
        "tfidf_train_new = tfidf_train.todense()\n",
        "tfidf_test_new = tfidf_test.todense()\n",
        "\n",
        "\n",
        "# Setting Constants\n",
        "EPOCHS = 10\n",
        "NUM_CLASSES = 1\n",
        "INPUT_SHAPE = (tfidf_train.shape[1], )\n",
        "\n",
        "\n",
        "# Creating network with specific layers\n",
        "model = Sequential()\n",
        "\n",
        "model.add(Flatten(input_shape=INPUT_SHAPE))\n",
        "model.add(Dropout(rate=0.2))\n",
        "model.add(Dense(units=32, activation='relu'))\n",
        "model.add(Dropout(rate=0.2))\n",
        "model.add(Dense(units=16, activation='relu'))\n",
        "model.add(Dense(units=NUM_CLASSES, activation='sigmoid'))\n",
        "\n",
        "# Compiling and fitting the neural network\n",
        "model.compile(loss='binary_crossentropy', optimizer='adam', metrics=['accuracy'])\n",
        "model.fit(tfidf_train_new, train_Y, epochs=EPOCHS, shuffle=True)\n",
        "\n",
        "# Printing Info about the network's accuracy\n",
        "scores = model.evaluate(tfidf_test_new, test_Y, verbose=0)\n",
        "print('Test accuracy:', scores[1])\n",
        "model.save(\"Fake_News_Model\")"
      ],
      "execution_count": 18,
      "outputs": [
        {
          "output_type": "stream",
          "name": "stdout",
          "text": [
            "Epoch 1/10\n",
            "66/66 [==============================] - 3s 36ms/step - loss: 0.6380 - accuracy: 0.7499\n",
            "Epoch 2/10\n",
            "66/66 [==============================] - 2s 36ms/step - loss: 0.3434 - accuracy: 0.9570\n",
            "Epoch 3/10\n",
            "66/66 [==============================] - 2s 35ms/step - loss: 0.1043 - accuracy: 0.9938\n",
            "Epoch 4/10\n",
            "66/66 [==============================] - 2s 36ms/step - loss: 0.0380 - accuracy: 0.9986\n",
            "Epoch 5/10\n",
            "66/66 [==============================] - 2s 36ms/step - loss: 0.0181 - accuracy: 0.9995\n",
            "Epoch 6/10\n",
            "66/66 [==============================] - 2s 36ms/step - loss: 0.0111 - accuracy: 1.0000\n",
            "Epoch 7/10\n",
            "66/66 [==============================] - 2s 36ms/step - loss: 0.0076 - accuracy: 1.0000\n",
            "Epoch 8/10\n",
            "66/66 [==============================] - 2s 36ms/step - loss: 0.0066 - accuracy: 0.9990\n",
            "Epoch 9/10\n",
            "66/66 [==============================] - 2s 35ms/step - loss: 0.0041 - accuracy: 1.0000\n",
            "Epoch 10/10\n",
            "66/66 [==============================] - 2s 37ms/step - loss: 0.0037 - accuracy: 1.0000\n",
            "Test accuracy: 0.9007633328437805\n",
            "INFO:tensorflow:Assets written to: Fake_News_Model/assets\n"
          ]
        }
      ]
    },
    {
      "cell_type": "code",
      "metadata": {
        "id": "_9-sZUsrIW0p"
      },
      "source": [
        "from keras.models import load_model\n",
        "\n",
        "model = load_model('Fake_News_Model')\n",
        "model.compile(loss='binary_crossentropy', optimizer='adam', metrics=['accuracy'])\n"
      ],
      "execution_count": 19,
      "outputs": []
    },
    {
      "cell_type": "code",
      "metadata": {
        "colab": {
          "base_uri": "https://localhost:8080/"
        },
        "id": "FbiXHKC3X0_M",
        "outputId": "47f5e62a-9cab-4c69-ed42-53eae57035ef"
      },
      "source": [
        "# Prediction for a given article\n",
        "text = [input(\"Enter Article: \")]\n",
        "\n",
        "truth_score = model.predict(vectorizer.transform(text).todense())[0]\n",
        "\n",
        "if truth_score > 0.5:\n",
        "  print(f'There is a {truth_score[0]*100}% chance this is FAKE news!')\n",
        "else:\n",
        "  print(f'There is a {100 - truth_score[0]*100}% chance this is REAL NEWS!')"
      ],
      "execution_count": 20,
      "outputs": [
        {
          "output_type": "stream",
          "name": "stdout",
          "text": [
            "Enter Article: HOUSTON — Concert organizers and Houston city officials knew that the crowd at a music festival planned by Travis Scott, a favorite local rapper turned megastar, could be difficult to control. That’s what happened two years earlier, the last time Mr. Scott held his Astroworld Festival.  For months, they braced themselves, adding dozens more officers from the Houston Police Department and more private security hired by Live Nation, the concert organizer.  The Houston police chief, who knows Mr. Scott personally and felt the musician had been trying to do good for his hometown, said that he visited Mr. Scott in his trailer before his show on Friday and conveyed concerns about the energy in the crowd, according to a person with knowledge of the chief’s account.  His show that day included very devoted fans, the chief, Troy Finner, said he relayed to Mr. Scott.  That energy had been building for months among fans who were drawn to see Mr. Scott because of that atmosphere and by the exuberance of seeing music live again after the pandemic hiatus. They flew in from California and Colorado, drove from Dallas and San Antonio. Tickets went for hundreds of dollars. Elementary school children were among the 50,000 fans.  ADVERTISEMENT  Continue reading the main story  “We literally flew down just for Astroworld,” said Jesse Dahl, who came from Denver with his 9-year-old son for the show. “I’ve had the tickets for months.”  But the anticipation gave way to dread almost as soon as Mr. Scott took the stage at 9 p.m. on Friday as the crowd surged uncontrollably and the worst fears of officials and concert organizers came to pass. Two teenagers, ages 14 and 16, were among the eight who died in the crush and chaos.  By Sunday, the Houston Police and Fire Departments had taken over the investigation into what took place during the festival at the NRG Park. They had created a rough timeline of events, officials said, seeking to piece together the movements of the swelling crowd and the actions of the private security personnel and medical staff on hand, as well as the city police officers and emergency medical workers.   Image Troy Finner, the Houston police chief, said he visited Travis Scott in his trailer before the show and expressed concerns about the crowd, according to a source. Troy Finner, the Houston police chief, said he visited Travis Scott in his trailer before the show and expressed concerns about the crowd, according to a source.Credit...Annie Mulligan for The New York Times A spokeswoman for the Houston Police Department declined to comment on their timeline of events or on Chief Finner’s private conversations, citing the pending investigation.  ADVERTISEMENT  Continue reading the main story  The show ended on Friday night 30 minutes earlier than scheduled, but nearly 40 minutes after a “mass casualty event” had been declared by city officials. One question surrounding the tragedy was whether the officials could have stopped the show sooner; they said that doing so would have had its own perils, including inciting a riot.  Fire Chief Samuel Peña said on Sunday that Mr. Scott and the organizers could have stepped in and paused the show.  “The one person who can really call for and get a tactical pause when something goes wrong is that performer. They have that bully pulpit and they have a responsibility,” Chief Peña said in a telephone interview on Sunday. “If somebody would have said, ‘Hey, shut this thing down and turn on the lights until this thing gets corrected’ — and that coming from the person with the mic — I think could have been very helpful.”  Mr. Scott and Live Nation declined to respond to specific questions, but they have said they will be cooperating with the investigation. Mr. Scott, one of the biggest names in rap music with a huge social media following and his own record label, said in an Instagram video that he did not know how bad things had gotten in the crowd.  Astroworld had been highly anticipated for the better part of the year.  Fans began buying tickets — with some paying $380 a piece or more — months before the show. By the summer, officials and event organizers were already in discussions about the event.  The concert organizers prepared two lengthy emergency plan documents, one addressing the overall response to emergencies like extreme weather, an active shooter or a riot, and another dealing with the medical response. The plans, obtained by The New York Times, addressed broad concerns related to Astroworld.  “Based on the site’s layout and numerous past experiences,” a 56-page security plan read, “the potential for multiple alcohol/drug related incidents, possible evacuation needs, and the ever-present threat of a mass casualty situation are identified as key concerns.”  Editors’ Picks  2021 N.F.L. Playoff Picture: Each Team’s Playoff Chances  Lynn Nottage  Julie Green, Artist Who Memorialized Inmates’ Last Suppers, Dies at 60 ADVERTISEMENT  Continue reading the main story  Elsewhere, it advised staff to “notify Event Control of a suspected deceased victim utilizing the code ‘Smurf’,” the report read. “Never use the term ‘dead’ or ‘deceased’ over the radio.” It was not clear if that protocol was followed.  As fans were converging on Houston on Thursday, Houston Fire Department officials were conducting a walk-through of the space, an outdoor area that could hold 200,000, officials said. “Our fire marshals went out there and had them adjust some of their pyrotechnics because they didn’t match the submitted plan,” Chief Peña said in the interview.  Hours later, beginning in the dark of the early morning, people began lining up to get inside. Dupri Johnson arrived for work at NRG Park at 3 a.m. More than 1,000 people were already waiting for the gates to open.  By the time they did, at around 10 a.m., people were so excited, they rushed forward. “They were not walking. They ran in,” he said. “It just seemed a little chaotic.”  At noon, Sami Anjum arrived to begin his work as a field medic for the show. An emergency medical technician and a clinical researcher, Mr. Anjum had learned a few days before that he would be working the festival for a contractor. He went anticipating a busy night.  “I’ve actually attended the event as an attendee in 2019. So I know how the crowd wasn’t being controlled,” he said. That year, crowds overwhelmed staff, breaking through gates and rushing the entrance. Three people were injured.  Outside the venue, the Houston Fire Department had positioned about 20 ambulances in anticipation that they might be needed.  ADVERTISEMENT  Continue reading the main story  It would be a few more hours before a large number of patients began arriving at the medical tent. Other performances at the festival, which was taking place on two stages throughout the day, proceeded as usual. “We thought it was pretty chill,” said Alex McLemore, 26, who described the scene in the early afternoon in a V.I.P. lounge section.  Event organizers had planned to deploy security personnel throughout the arena, including along nearby roads, gates, fence lines and V.I.P. areas, according to the 56-page planning report. They also set up imposing perimeters: eight-foot fencing with scrim, bike racks, snow fencing and concrete bollards, meant to maintain crowd control. Those fences and barricades were stronger and more robust than they were in 2019, officials said.  Security guards were given a list of visible signs to determine whether patrons were on the verge of needing medical care, including unsteady gait, confusion, vomiting and loss of consciousness. “Many incidents will be minor, and a few will be complex,” the report advised.  The first influx of those seeking medical attention began around 3:30 p.m., Mr. Anjum said. But nothing seemed out of the ordinary for a concert with young fans, where overdoses are not uncommon.  A 22-page medical plan prepared by ParaDocs called for a main medical tent with two emergency room physicians, six registered nurses, two paramedics and nine emergency medical technicians, along with people to track and triage patients. There were 30 cots, 12 tables and two wheelchairs in the main tent; other smaller medical tents were positioned around the event.  But the number of people in need of medical care — which grew to more than 300 and possibly many more — appeared to overwhelm those resources even before Mr. Scott began performing.  By 8:15 p.m., the medical staff on hand said they were unable to document patients because there were so many who needed help. “Many patients were last seen conscious more than 20 minutes prior to receiving any medical attention,” Mr. Anjum said. They began triage.  ADVERTISEMENT  Continue reading the main story  Paramedics struggled to keep up with the number of people needing naloxone, a drug that reverses the effects of an opioid overdose. Among them was at least one security guard who lost consciousness after reporting that a person had stuck him in the neck with a needle as he was trying to aid another person who had fainted.  The amount of naloxone administered may never be known, Chief Peña said, because it was being carried and used by so many at the event, including the event medical personnel, emergency medical workers and the police.  A spokesman for ParaDocs did not immediately respond to a request for comment.  A clock counted down the moments until Mr. Scott’s arrival. Crowds surged to the main stage, pressing in not from front to back, but from the sides, according to Chief Peña.  Still, for many in the crowd, the show was still just a show, full of excitement and anticipation.  “We ended up in the middle somewhere,” said Armon Sayadian, 21, who came with his friend, Heath Bacon, 20, from Central Valley, Calif.  The music paused around 9:30 p.m. as an ambulance made its way into the crowd. It was around that time that Mr. Anjum got his first call for cardiac arrest. It took 10 minutes to get through the crowd to the patient, he said.  As the music was stopped, two men who appeared to be part of Mr. Scott’s entourage approached him onstage, according to a video of the concert that has since been taken down. Mr. Scott shooed them away.  “Y’all know what you came to do,” he said, turning to the crowd, before the music started up again. Mr. Scott asked the tens of thousands in front of him to make “the ground shake.”  ADVERTISEMENT  Continue reading the main story  The words sent a bolt of energy to the already frenzied fans, Mr. Sayadian said.  Everyone around them started jumping, stomping on the ground. They joined in, carried along with the mass of bodies. “You kind of have to,” Mr. Sayadian said.  “You become one with the crowd,” echoed his friend, Mr. Bacon.  By then, the city ambulances that had been placed around the venue were collecting patients and more were called in. Sixty-two ambulances in all would eventually respond.  Guillermo Garcia, a 25-year-old warehouse worker who drove from Dallas, said people collapsed all around him. And few rushed to their aid.  “People usually fall and you just pick people up,” he said, recalling his experiences attending the Astroworld event in previous years. “This time, people couldn’t do that. There were too many people. You could not move. Everywhere you were, people were pushing you. Every time he performs, people get excited.”  Mr. Scott managed to get through another song before he paused the music again.  “There were so many ambulances and police cars,” Mr. Sayadian said.  For roughly 90 minutes, starting at 9:30 p.m., Mr. Anjum said it felt as if he were doing chest compressions nonstop. Patients were laid out on the concrete.  By 10 p.m., people were trampling over each other inside the show, an act so inhumane, said Afnan Hasan, 18, that it made him recoil in anger. “We were trying to do our best to lift them up,” he said. “Other people were not stepping up.”  ADVERTISEMENT  Continue reading the main story  They had gotten so close to Mr. Scott in the crowd that they could make eye contact, and in a last-ditch effort to save people in distress, Mr. Hasan and a friend waved and yelled in Mr. Scott’s direction.  “We were trying to scream at him and get his attention,” Mr. Hasan said, reliving the moment as he imitated pulling people up from the floor. “We were like, ‘People are passing out here. We have, like, piles of people.’ He could not hear us. It was too loud.”  A security guard guided Mr. Hasan and his friend away from the stampede via the V.I.P. lounge and out into the streets.  As he left, Mr. Hasan saw a young man on his knees, and watched as another man stepped on him with brute force.  The show ended at roughly 10:15 p.m. Officials said the venue cleared out without incident. The exits were wide enough. Everyone was gone within an hour.  By that point, Mr. Anjum said, they had long since run out of naloxone. Two dozen people had been taken to hospitals. Eight were dead. The causes of their deaths were still awaiting toxicology reports, a process that could last weeks.  For Mr. Hasan, the images of that night would be seared in his mind for at least that long. When he closes his eyes, he said, all he can see is the young man on his knees about to lose consciousness. His head is wobbling, as if he lacks the strength to lift it up.  “I kept telling people, ‘There is someone on the ground!’” he recalled. “‘Watch out!’”  Mr. Hasan wondered who the man was, and if he made it home.\n",
            "There is a 99.99584027209494% chance this is REAL NEWS!\n"
          ]
        }
      ]
    }
  ]
}