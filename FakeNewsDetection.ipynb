{
  "nbformat": 4,
  "nbformat_minor": 0,
  "metadata": {
    "colab": {
      "name": "FakeNewsDetection.ipynb",
      "provenance": [],
      "collapsed_sections": [],
      "authorship_tag": "ABX9TyOUooGCaOcbD1Wo8pB6glj6",
      "include_colab_link": true
    },
    "kernelspec": {
      "name": "python3",
      "display_name": "Python 3"
    },
    "language_info": {
      "name": "python"
    }
  },
  "cells": [
    {
      "cell_type": "markdown",
      "metadata": {
        "id": "view-in-github",
        "colab_type": "text"
      },
      "source": [
        "<a href=\"https://colab.research.google.com/github/PeteCrowley/MachineLearning/blob/main/FakeNewsDetection.ipynb\" target=\"_parent\"><img src=\"https://colab.research.google.com/assets/colab-badge.svg\" alt=\"Open In Colab\"/></a>"
      ]
    },
    {
      "cell_type": "code",
      "metadata": {
        "id": "2rKryzM1LJ1w",
        "colab": {
          "base_uri": "https://localhost:8080/"
        },
        "outputId": "ae1c7f3c-75f0-4d19-d91a-a0487f95e4b3"
      },
      "source": [
        "import pandas\n",
        "import numpy as np\n",
        "from tensorflow.keras.models import Sequential\n",
        "from keras.layers import Dense, Dropout, Flatten\n",
        "from sklearn.feature_extraction.text import TfidfVectorizer\n",
        "from sklearn.linear_model import PassiveAggressiveClassifier\n",
        "from sklearn.model_selection import train_test_split\n",
        "from sklearn.metrics import accuracy_score, confusion_matrix\n",
        "import tensorflow as tf\n",
        "\n",
        "\n",
        "# Dataset from here: https://www.kaggle.com/c/fake-news/data?select=train.csv\n",
        "df = pandas.read_csv(\"train.csv\")\n",
        "clean_df = df.dropna()\n",
        "\n",
        "# Only using first 3000 values because my RAM can't handle more data\n",
        "X = np.array(clean_df[df['id'] < 3000].text)\n",
        "Y = np.array(clean_df[df['id'] < 3000].label)\n",
        "\n",
        "# Splitting into train and test data\n",
        "train_X, test_X, train_Y, test_Y = train_test_split(X, Y, test_size=0.2, random_state=7)\n"
      ],
      "execution_count": null,
      "outputs": [
        {
          "output_type": "stream",
          "name": "stderr",
          "text": [
            "/usr/local/lib/python3.7/dist-packages/ipykernel_launcher.py:17: UserWarning: Boolean Series key will be reindexed to match DataFrame index.\n",
            "/usr/local/lib/python3.7/dist-packages/ipykernel_launcher.py:18: UserWarning: Boolean Series key will be reindexed to match DataFrame index.\n"
          ]
        }
      ]
    },
    {
      "cell_type": "code",
      "metadata": {
        "id": "CQ5RpSueLYE1"
      },
      "source": [
        "# Changing the string text data into TfidfVectors which take numerical data on the text\n",
        "vectorizer = TfidfVectorizer(stop_words='english', max_df=0.7)\n",
        "\n",
        "tfidf_train = vectorizer.fit_transform(train_X)\n",
        "tfidf_test = vectorizer.transform(test_X)\n",
        "\n"
      ],
      "execution_count": null,
      "outputs": []
    },
    {
      "cell_type": "code",
      "metadata": {
        "colab": {
          "base_uri": "https://localhost:8080/"
        },
        "id": "l7abwNj0SET_",
        "outputId": "40bfe858-894b-466a-9b53-2ad08da57432"
      },
      "source": [
        "# A more lightweight model that runs quicker and is less RAM intensive\n",
        "model = PassiveAggressiveClassifier(max_iter=50)\n",
        "model.fit(tfidf_train, train_Y)\n",
        "\n",
        "y_pred = model.predict(tfidf_test)\n",
        "score = accuracy_score(test_Y, y_pred)\n",
        "print(f'Accuracy: {round(score*100,2)}%')\n",
        "\n"
      ],
      "execution_count": null,
      "outputs": [
        {
          "output_type": "stream",
          "name": "stdout",
          "text": [
            "Accuracy: 96.64%\n"
          ]
        }
      ]
    },
    {
      "cell_type": "code",
      "metadata": {
        "colab": {
          "base_uri": "https://localhost:8080/"
        },
        "id": "dmklOF5YY53i",
        "outputId": "87e2c4d1-d9ce-447c-a213-229624ca6edb"
      },
      "source": [
        "# Prediction program using the lightweight model\n",
        "text = [input(\"Enter Article: \")]\n",
        "tfidf_text = vectorizer.transform(text)\n",
        "choice = model.predict(tfidf_text)\n",
        "if choice == 0:\n",
        "  print(\"REAL\")\n",
        "else:\n",
        "  print(\"FAKE\")"
      ],
      "execution_count": null,
      "outputs": [
        {
          "output_type": "stream",
          "name": "stdout",
          "text": [
            "Enter Article: LONDON (AP) — The World Health Organization said there was a 7% rise in new coronavirus cases across Europe last week, the only region in the world where cases increased, and said uneven vaccine uptake posed a threat to the continent.  In its weekly assessment of the pandemic, the U.N. health agency said there were about 2.7 million new COVID-19 cases and more than 46,000 deaths last week worldwide, similar to the numbers reported the previous week.  WHO said the two regions with the highest rates of COVID-19 incidence were Europe and the Americas. Globally, the U.S. reported the biggest number of new cases, more than 580,000, which still represented a 11% decline.  Britain, Russia and Turkey accounted for the most cases in Europe.  ADVERTISEMENT  The biggest drop in COVID-19 cases were seen in Africa and the Western Pacific, where infections fell by about 18% and 16%, respectively. The number of deaths in Africa also declined by about a quarter, despite the dire shortage of vaccines on the continent.  But for the third consecutive week, coronavirus cases have jumped in Europe, with about 1.3 million new cases. More than half of countries in the region reported a rise in their COVID-19 numbers, WHO said. Britain and Russia each reported about a 15% increase in new cases.  In a statement Wednesday, WHO’s Europe office said 1 billion coronavirus vaccines have now been administered across the continent and described uneven vaccine uptake as “the region’s biggest enemy in the fight against COVID-19.”  In the past week, Russia has repeatedly broken new daily records for COVID-19 cases and the number of infections in the U.K. has surged to levels not seen since mid-July.  CORONAVIRUS PANDEMIC FDA OKs mixing COVID vaccines; backs Moderna, J&J boosters Russians to stay off work for a week as virus deaths rise White House details plans to vaccinate 28M children age 5-11 UK encourages booster jabs, resists new virus restrictions Russian President Vladimir Putin on Wednesday backed a Cabinet proposal to keep Russian workers home for a week in an effort to stem the spread of the virus.  Russian officials have struggled to vaccinate the population but due to vaccine skepticism, only about 32% of people have been immunized despite the availability of its Sputnik V vaccine. It has by far the largest virus death toll in Europe, with more than 225,000 deaths.  Although the head of Britain’s National Health Service has urged the government to introduce stricter COVID-19 protocols including mask-wearing and the faster vaccination of children, politicians have so far demurred.\n",
            "REAL\n"
          ]
        }
      ]
    },
    {
      "cell_type": "code",
      "metadata": {
        "id": "lSQV1vQ_aO_d"
      },
      "source": [
        "# Converts the vectors into dense objects which can be inputed into the Neural Network\n",
        "tfidf_train_new = tfidf_train.todense()\n",
        "tfidf_test_new = tfidf_test.todense()\n",
        "\n",
        "\n",
        "# Setting Constants\n",
        "EPOCHS = 10\n",
        "NUM_CLASSES = 1\n",
        "INPUT_SHAPE = (tfidf_train.shape[1], )\n",
        "\n",
        "\n",
        "# Creating network with specific layers\n",
        "model = Sequential()\n",
        "\n",
        "model.add(Flatten(input_shape=INPUT_SHAPE))\n",
        "model.add(Dropout(rate=0.2))\n",
        "model.add(Dense(units=32, activation='relu'))\n",
        "model.add(Dropout(rate=0.2))\n",
        "model.add(Dense(units=16, activation='relu'))\n",
        "model.add(Dense(units=NUM_CLASSES, activation='sigmoid'))\n",
        "\n",
        "# Compiling and fitting the neural network\n",
        "model.compile(loss='binary_crossentropy', optimizer='adam', metrics=['accuracy'])\n",
        "model.fit(tfidf_train_new, train_Y, epochs=EPOCHS, shuffle=True)\n",
        "\n",
        "# Printing Info about the network's accuracy\n",
        "scores = model.evaluate(tfidf_test_new, test_Y, verbose=0)\n",
        "print('Test accuracy:', scores[1])\n",
        "model.save(\"Fake_News_Model\")"
      ],
      "execution_count": null,
      "outputs": []
    },
    {
      "cell_type": "code",
      "metadata": {
        "id": "_9-sZUsrIW0p"
      },
      "source": [
        "from keras.models import load_model\n",
        "\n",
        "model = load_model('Fake_News_Model')\n",
        "model.compile(loss='binary_crossentropy', optimizer='adam', metrics=['accuracy'])\n"
      ],
      "execution_count": null,
      "outputs": []
    },
    {
      "cell_type": "code",
      "metadata": {
        "colab": {
          "base_uri": "https://localhost:8080/"
        },
        "id": "FbiXHKC3X0_M",
        "outputId": "35ebceb9-3b75-41c9-c536-5316c30ee9ea"
      },
      "source": [
        "# Prediction for a given article\n",
        "text = [input(\"Enter Article: \")]\n",
        "\n",
        "truth_score = model.predict(vectorizer.transform(text).todense())[0]\n",
        "\n",
        "if truth_score > 0.5:\n",
        "  print(f'There is a {truth_score[0]*100}% chance this is FAKE news!')\n",
        "else:\n",
        "  print(f'There is a {100 - truth_score[0]*100}% chance this is REAL NEWS!')"
      ],
      "execution_count": null,
      "outputs": [
        {
          "output_type": "stream",
          "name": "stdout",
          "text": [
            "Enter Article: hello\n",
            "There is a 90.25720357894897% chance this is FAKE news!\n"
          ]
        }
      ]
    }
  ]
}