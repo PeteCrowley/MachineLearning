{
  "nbformat": 4,
  "nbformat_minor": 0,
  "metadata": {
    "colab": {
      "name": "CIFAR-10.ipynb",
      "provenance": [],
      "authorship_tag": "ABX9TyP8Neuuc5wzQK5FNkaiy1Dz",
      "include_colab_link": true
    },
    "kernelspec": {
      "name": "python3",
      "display_name": "Python 3"
    },
    "language_info": {
      "name": "python"
    }
  },
  "cells": [
    {
      "cell_type": "markdown",
      "metadata": {
        "id": "view-in-github",
        "colab_type": "text"
      },
      "source": [
        "<a href=\"https://colab.research.google.com/github/PeteCrowley/MachineLearning/blob/main/CIFAR_10.ipynb\" target=\"_parent\"><img src=\"https://colab.research.google.com/assets/colab-badge.svg\" alt=\"Open In Colab\"/></a>"
      ]
    },
    {
      "cell_type": "code",
      "metadata": {
        "colab": {
          "base_uri": "https://localhost:8080/"
        },
        "id": "eDYfLRrE8xlB",
        "outputId": "ef43bb55-a5b9-460f-c6d8-8a08dd70a19a"
      },
      "source": [
        "from tensorflow import keras\n",
        "from tensorflow.keras.datasets import cifar10\n",
        "from tensorflow.keras import backend as k\n",
        "import numpy as np\n",
        "import matplotlib.pyplot as plt\n",
        "%matplotlib inline\n",
        "\n",
        "\n",
        "IMG_ROWS, IMG_COLS = 32, 32\n",
        "NUM_CLASSES = 10\n",
        "\n",
        "# Helper Functions for Visualization\n",
        "def show_min_max(array, i):\n",
        "  random_image =array[i]\n",
        "  print(random_image.min(), random_image.max())\n",
        "\n",
        "def plot_image(array, i, labels):\n",
        "  plt.imshow(np.squeeze(array[i]))\n",
        "  plt.title(label_names[labels[i]])\n",
        "  plt.xticks([])\n",
        "  plt.yticks([])\n",
        "  plt.show()\n",
        "\n",
        "\n",
        "label_names = ['airplane', 'automobile', 'bird', 'cat', 'deer', 'dog', \n",
        "               'frog', 'horse', 'ship', 'truck']\n",
        "\n",
        "# Loading in 2 copies of the dataset\n",
        "((train_images, train_labels), (test_images, test_labels)) = cifar10.load_data()\n",
        "((train_images_backup, train_labels_backup), (test_images_backup, test_labels_backup)) = cifar10.load_data()\n",
        "\n",
        "train_labels_backup = [item for sublist in train_labels_backup for item in sublist]\n",
        "test_labels_backup = [item for sublist in test_labels_backup for item in sublist]\n",
        "\n",
        "# Preparing the images for the neural network\n",
        "INPUT_SHAPE = (IMG_ROWS, IMG_COLS, 3)\n",
        "\n",
        "train_images = train_images.astype('float32')\n",
        "test_images = test_images.astype('float32')\n",
        "\n",
        "train_images /= 255\n",
        "test_images /= 255\n",
        "\n",
        "train_labels = keras.utils.to_categorical(train_labels, NUM_CLASSES)\n",
        "test_labels = keras.utils.to_categorical(test_labels, NUM_CLASSES)\n",
        "\n"
      ],
      "execution_count": 1,
      "outputs": [
        {
          "output_type": "stream",
          "name": "stdout",
          "text": [
            "Downloading data from https://www.cs.toronto.edu/~kriz/cifar-10-python.tar.gz\n",
            "170500096/170498071 [==============================] - 11s 0us/step\n",
            "170508288/170498071 [==============================] - 11s 0us/step\n"
          ]
        }
      ]
    },
    {
      "cell_type": "code",
      "metadata": {
        "colab": {
          "base_uri": "https://localhost:8080/"
        },
        "id": "vTAUNZ3KG4xH",
        "outputId": "01a52c03-1aa0-46de-9371-1cb2b6bdadeb"
      },
      "source": [
        "# A Convolutional Neural Network, takes about 45 mins to train\n",
        "from tensorflow.keras.models import Sequential\n",
        "from tensorflow.keras.layers import Dense, Dropout, Flatten, Conv2D, MaxPooling2D, BatchNormalization\n",
        "\n",
        "EPOCHS = 15\n",
        "BATCH_SIZE = 64\n",
        "\n",
        "model = Sequential()\n",
        "\n",
        "model.add(Conv2D(filters=32, kernel_size=(3, 3), activation='relu', input_shape=INPUT_SHAPE))\n",
        "model.add(Conv2D(filters=64, kernel_size=(3, 3), activation='relu'))\n",
        "model.add(MaxPooling2D(pool_size=(2, 2)))\n",
        "model.add(Dropout(rate=0.2))\n",
        "model.add(BatchNormalization())\n",
        "\n",
        "model.add(Conv2D(filters=64, kernel_size=(3, 3), activation='relu'))\n",
        "model.add(MaxPooling2D(pool_size=(2, 2)))\n",
        "model.add(Dropout(rate=0.3))\n",
        "model.add(BatchNormalization())\n",
        "\n",
        "model.add(Conv2D(filters=128, kernel_size=(3, 3), activation='relu'))\n",
        "model.add(Conv2D(filters=64, kernel_size=(3, 3), activation='relu'))\n",
        "model.add(MaxPooling2D(pool_size=(2, 2)))\n",
        "model.add(Dropout(rate=0.3))\n",
        "model.add(BatchNormalization())\n",
        "\n",
        "model.add(Flatten())\n",
        "model.add(Dense(units=128, activation='relu'))\n",
        "model.add(Dense(units=NUM_CLASSES, activation='softmax'))\n",
        "\n",
        "model.compile(loss='categorical_crossentropy', optimizer='adam', metrics=['accuracy'])\n",
        "model.fit(train_images, train_labels, batch_size=BATCH_SIZE, epochs=EPOCHS, shuffle=True)\n",
        "\n",
        "scores = model.evaluate(test_images, test_labels, verbose=0)\n",
        "print('Test accuracy:', scores[1])\n",
        "model.save('cnn_cifar10.h5')"
      ],
      "execution_count": 2,
      "outputs": [
        {
          "output_type": "stream",
          "name": "stdout",
          "text": [
            "Epoch 1/15\n",
            "782/782 [==============================] - 202s 257ms/step - loss: 1.5392 - accuracy: 0.4338\n",
            "Epoch 2/15\n",
            "782/782 [==============================] - 201s 257ms/step - loss: 1.1708 - accuracy: 0.5846\n",
            "Epoch 3/15\n",
            "782/782 [==============================] - 202s 258ms/step - loss: 1.0155 - accuracy: 0.6419\n",
            "Epoch 4/15\n",
            "782/782 [==============================] - 200s 256ms/step - loss: 0.9220 - accuracy: 0.6775\n",
            "Epoch 5/15\n",
            "782/782 [==============================] - 200s 255ms/step - loss: 0.8638 - accuracy: 0.7005\n",
            "Epoch 6/15\n",
            "782/782 [==============================] - 199s 254ms/step - loss: 0.8103 - accuracy: 0.7195\n",
            "Epoch 7/15\n",
            "782/782 [==============================] - 199s 255ms/step - loss: 0.7692 - accuracy: 0.7331\n",
            "Epoch 8/15\n",
            "782/782 [==============================] - 200s 256ms/step - loss: 0.7399 - accuracy: 0.7424\n",
            "Epoch 9/15\n",
            "782/782 [==============================] - 200s 256ms/step - loss: 0.7108 - accuracy: 0.7548\n",
            "Epoch 10/15\n",
            "782/782 [==============================] - 202s 258ms/step - loss: 0.6844 - accuracy: 0.7632\n",
            "Epoch 11/15\n",
            "782/782 [==============================] - 198s 254ms/step - loss: 0.6603 - accuracy: 0.7711\n",
            "Epoch 12/15\n",
            "782/782 [==============================] - 200s 256ms/step - loss: 0.6406 - accuracy: 0.7795\n",
            "Epoch 13/15\n",
            "782/782 [==============================] - 200s 255ms/step - loss: 0.6248 - accuracy: 0.7842\n",
            "Epoch 14/15\n",
            "782/782 [==============================] - 199s 254ms/step - loss: 0.6078 - accuracy: 0.7909\n",
            "Epoch 15/15\n",
            "782/782 [==============================] - 198s 254ms/step - loss: 0.5929 - accuracy: 0.7956\n",
            "Test accuracy: 0.796999990940094\n"
          ]
        }
      ]
    },
    {
      "cell_type": "code",
      "metadata": {
        "colab": {
          "base_uri": "https://localhost:8080/",
          "height": 285
        },
        "id": "FN1HY74BtC4R",
        "outputId": "45387c0e-b5dc-4af2-a1b6-42c7cd7e822d"
      },
      "source": [
        "from keras.models import load_model\n",
        "model = load_model(\"cnn_cifar10.h5\")\n",
        "\n",
        "choice = np.random.randint(0, len(test_images))\n",
        "plot_image(test_images, choice, test_labels_backup)\n",
        "\n",
        "prediction = model.predict(np.array([test_images[choice]]))\n",
        "max_value = max(prediction[0])\n",
        "max_index = np.where(prediction[0] == max_value)\n",
        "\n",
        "\n",
        "print(f'Prediction: {label_names[max_index[0][0]]}')"
      ],
      "execution_count": 14,
      "outputs": [
        {
          "output_type": "display_data",
          "data": {
            "image/png": "[encoded data removed]",
            "text/plain": [
              "<Figure size 432x288 with 1 Axes>"
            ]
          },
          "metadata": {}
        },
        {
          "output_type": "stream",
          "name": "stdout",
          "text": [
            "Prediction: truck\n"
          ]
        }
      ]
    }
  ]
}