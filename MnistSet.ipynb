{
  "nbformat": 4,
  "nbformat_minor": 0,
  "metadata": {
    "kernelspec": {
      "display_name": "Python 3",
      "language": "python",
      "name": "python3"
    },
    "language_info": {
      "codemirror_mode": {
        "name": "ipython",
        "version": 3
      },
      "file_extension": ".py",
      "mimetype": "text/x-python",
      "name": "python",
      "nbconvert_exporter": "python",
      "pygments_lexer": "ipython3",
      "version": "3.7.4"
    },
    "colab": {
      "name": "MnistSet.ipynb",
      "provenance": [],
      "include_colab_link": true
    }
  },
  "cells": [
    {
      "cell_type": "markdown",
      "metadata": {
        "id": "view-in-github",
        "colab_type": "text"
      },
      "source": [
        "<a href=\"https://colab.research.google.com/github/PeteCrowley/MachineLearning/blob/main/MnistSet.ipynb\" target=\"_parent\"><img src=\"https://colab.research.google.com/assets/colab-badge.svg\" alt=\"Open In Colab\"/></a>"
      ]
    },
    {
      "cell_type": "markdown",
      "metadata": {
        "collapsed": true,
        "id": "Ej_kbITvyDW6"
      },
      "source": [
        "Image Recognition\n",
        "===\n",
        "\n",
        "This notebook will create a convolutional and a dense neural network to classify images in the mnist datasets."
      ]
    },
    {
      "cell_type": "code",
      "metadata": {
        "id": "WmUv-yHoyDW7"
      },
      "source": [
        "# Keras to create the neural network\n",
        "from tensorflow import keras\n",
        "from tensorflow.keras.datasets import mnist\n",
        "from tensorflow.keras import backend as k\n",
        "import numpy as np\n",
        "import matplotlib.pyplot as plt\n",
        "%matplotlib inline\n",
        "\n",
        "# Helper Functions for Visualization\n",
        "def show_min_max(array, i):\n",
        "  random_image =array[i]\n",
        "  print(random_image.min(), random_image.max())\n",
        "\n",
        "def plot_image(array, i, labels):\n",
        "  plt.imshow(np.squeeze(array[i]))\n",
        "  plt.title(\" Digit \" + str(labels[i]))\n",
        "  plt.xticks([])\n",
        "  plt.yticks([])\n",
        "  plt.show()\n",
        "\n",
        "IMG_ROWS, IMG_COLS = 28, 28\n",
        "NUM_CLASSES = 10\n",
        "\n",
        "# Loading in Data\n",
        "((train_images, train_labels), (test_images, test_labels)) = mnist.load_data()\n",
        "\n",
        "train_images = train_images.reshape(train_images.shape[0], IMG_ROWS, IMG_COLS, 1)\n",
        "test_images = test_images.reshape(test_images.shape[0], IMG_ROWS, IMG_COLS, 1)\n",
        "INPUT_SHAPE = (IMG_ROWS, IMG_COLS, 1)\n",
        "\n",
        "train_images = train_images.astype('float32')\n",
        "test_images = test_images.astype('float32')\n",
        "\n",
        "train_images /= 255\n",
        "test_images /= 255\n",
        "\n",
        "train_labels = keras.utils.to_categorical(train_labels, NUM_CLASSES)\n",
        "test_labels = keras.utils.to_categorical(test_labels, NUM_CLASSES)\n"
      ],
      "execution_count": 40,
      "outputs": []
    },
    {
      "cell_type": "code",
      "metadata": {
        "id": "VbKUNpmIDC-p",
        "colab": {
          "base_uri": "https://localhost:8080/"
        },
        "outputId": "0dd6263f-489d-4e85-c2c5-d492b9dfaa97"
      },
      "source": [
        "# Convolutional Neural Network\n",
        "from tensorflow.keras.models import Sequential\n",
        "from tensorflow.keras.layers import Dense, Flatten, Conv2D, MaxPooling2D, Dropout\n",
        "\n",
        "EPOCHS = 1\n",
        "model = Sequential()\n",
        "\n",
        "model.add(Conv2D(filters=32, kernel_size=(3, 3), activation='relu', input_shape=INPUT_SHAPE))\n",
        "model.add(MaxPooling2D(pool_size=(2, 2)))\n",
        "model.add(Conv2D(filters=64, kernel_size=(3, 3), activation='relu'))\n",
        "model.add(Dropout(rate=0.3))\n",
        "model.add(Conv2D(filters=32, kernel_size=(3, 3), activation='relu'))\n",
        "\n",
        "model.add(Flatten())\n",
        "model.add(Dense(units=32, activation='relu'))\n",
        "model.add(Dense(units=NUM_CLASSES, activation='softmax'))\n",
        "\n",
        "model.compile(loss='categorical_crossentropy', optimizer='rmsprop', metrics=['accuracy'])\n",
        "model.summary()\n",
        "model.fit(train_images, train_labels, epochs=EPOCHS, shuffle=True)\n",
        "scores = model.evaluate(test_images, test_labels, verbose=0)\n",
        "print(f\"\\nTest Accuracy: {scores[1]}\")\n",
        "model.save('cnn_mnist.h5')\n"
      ],
      "execution_count": 2,
      "outputs": [
        {
          "output_type": "stream",
          "name": "stdout",
          "text": [
            "Model: \"sequential\"\n",
            "_________________________________________________________________\n",
            "Layer (type)                 Output Shape              Param #   \n",
            "=================================================================\n",
            "conv2d (Conv2D)              (None, 26, 26, 32)        320       \n",
            "_________________________________________________________________\n",
            "max_pooling2d (MaxPooling2D) (None, 13, 13, 32)        0         \n",
            "_________________________________________________________________\n",
            "conv2d_1 (Conv2D)            (None, 11, 11, 64)        18496     \n",
            "_________________________________________________________________\n",
            "dropout (Dropout)            (None, 11, 11, 64)        0         \n",
            "_________________________________________________________________\n",
            "conv2d_2 (Conv2D)            (None, 9, 9, 32)          18464     \n",
            "_________________________________________________________________\n",
            "flatten (Flatten)            (None, 2592)              0         \n",
            "_________________________________________________________________\n",
            "dense (Dense)                (None, 32)                82976     \n",
            "_________________________________________________________________\n",
            "dense_1 (Dense)              (None, 10)                330       \n",
            "=================================================================\n",
            "Total params: 120,586\n",
            "Trainable params: 120,586\n",
            "Non-trainable params: 0\n",
            "_________________________________________________________________\n",
            "1875/1875 [==============================] - 68s 36ms/step - loss: 0.1424 - accuracy: 0.9566\n",
            "\n",
            "Test Accuracy: 0.98580002784729\n"
          ]
        }
      ]
    },
    {
      "cell_type": "code",
      "metadata": {
        "colab": {
          "base_uri": "https://localhost:8080/"
        },
        "id": "Bc10ntnFzImP",
        "outputId": "5bfc2606-1148-4369-aee6-ed1659310b48"
      },
      "source": [
        "# Dense Neural Network\n",
        "\n",
        "from tensorflow.keras.models import Sequential\n",
        "from tensorflow.keras.layers import Dense, Flatten\n",
        "\n",
        "EPOCHS = 10\n",
        "model = Sequential()\n",
        "\n",
        "model.add(Flatten(input_shape=INPUT_SHAPE))\n",
        "model.add(Dense(units=20, activation='relu'))\n",
        "model.add(Dense(units=10, activation='softmax'))\n",
        "\n",
        "model.compile(optimizer='adam', loss='categorical_crossentropy', metrics=['accuracy'])\n",
        "\n",
        "model.fit(train_images, train_labels, epochs=EPOCHS, shuffle=True)\n",
        "\n",
        "test_loss, test_acc = model.evaluate(test_images, test_labels, verbose=2)\n",
        "print(f\"\\nTest Accuracy: {test_acc}\")\n",
        "\n",
        "model.save('dnn_mnist.h5')"
      ],
      "execution_count": 3,
      "outputs": [
        {
          "output_type": "stream",
          "name": "stdout",
          "text": [
            "Epoch 1/10\n",
            "1875/1875 [==============================] - 3s 1ms/step - loss: 0.4078 - accuracy: 0.8874\n",
            "Epoch 2/10\n",
            "1875/1875 [==============================] - 2s 1ms/step - loss: 0.2352 - accuracy: 0.9330\n",
            "Epoch 3/10\n",
            "1875/1875 [==============================] - 2s 1ms/step - loss: 0.1957 - accuracy: 0.9449\n",
            "Epoch 4/10\n",
            "1875/1875 [==============================] - 2s 1ms/step - loss: 0.1737 - accuracy: 0.9497\n",
            "Epoch 5/10\n",
            "1875/1875 [==============================] - 2s 1ms/step - loss: 0.1587 - accuracy: 0.9537\n",
            "Epoch 6/10\n",
            "1875/1875 [==============================] - 2s 1ms/step - loss: 0.1470 - accuracy: 0.9574\n",
            "Epoch 7/10\n",
            "1875/1875 [==============================] - 2s 1ms/step - loss: 0.1381 - accuracy: 0.9599\n",
            "Epoch 8/10\n",
            "1875/1875 [==============================] - 3s 1ms/step - loss: 0.1309 - accuracy: 0.9617\n",
            "Epoch 9/10\n",
            "1875/1875 [==============================] - 2s 1ms/step - loss: 0.1251 - accuracy: 0.9636\n",
            "Epoch 10/10\n",
            "1875/1875 [==============================] - 2s 1ms/step - loss: 0.1201 - accuracy: 0.9647\n",
            "313/313 - 0s - loss: 0.1435 - accuracy: 0.9595\n",
            "\n",
            "Test Accuracy: 0.9595000147819519\n"
          ]
        }
      ]
    },
    {
      "cell_type": "code",
      "metadata": {
        "colab": {
          "base_uri": "https://localhost:8080/",
          "height": 285
        },
        "id": "i2vA-xddnhK9",
        "outputId": "923ee203-5968-4852-c8c2-63cfc9106b34"
      },
      "source": [
        "from keras.models import load_model\n",
        "model = load_model(\"cnn_mnist.h5\")\n",
        "\n",
        "choice = np.random.randint(0, len(test_images))\n",
        "plot_image(test_images, choice, test_labels)\n",
        "\n",
        "prediction = model.predict(np.array([test_images[choice]]))\n",
        "max_value = max(prediction[0])\n",
        "max_index = np.where(prediction[0] == max_value)\n",
        "\n",
        "\n",
        "print(f'Prediction: {max_index[0][0]}')"
      ],
      "execution_count": 57,
      "outputs": [
        {
          "output_type": "display_data",
          "data": {
            "image/png": "[encoded data removed]",
            "text/plain": [
              "<Figure size 432x288 with 1 Axes>"
            ]
          },
          "metadata": {}
        },
        {
          "output_type": "stream",
          "name": "stdout",
          "text": [
            "Prediction: 6\n"
          ]
        }
      ]
    }
  ]
}